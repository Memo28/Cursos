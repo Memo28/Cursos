{
  "nbformat": 4,
  "nbformat_minor": 0,
  "metadata": {
    "colab": {
      "name": "Proxys.ipynb",
      "provenance": [],
      "collapsed_sections": []
    },
    "kernelspec": {
      "name": "python3",
      "display_name": "Python 3"
    }
  },
  "cells": [
    {
      "cell_type": "code",
      "metadata": {
        "id": "tehYFqiQp9fk",
        "colab_type": "code",
        "colab": {}
      },
      "source": [
        "import requests\n",
        "import re"
      ],
      "execution_count": 0,
      "outputs": []
    },
    {
      "cell_type": "code",
      "metadata": {
        "id": "lIc_5n_mqB0r",
        "colab_type": "code",
        "colab": {}
      },
      "source": [
        "def get_my_ip(url=\"http://www.cualesmiip.com\", proxies=None):\n",
        "  try:\n",
        "    r = requests.get(url=url, proxies=proxies)\n",
        "  except Exception as e:\n",
        "    print('Error haciendo la request', e)\n",
        "    return None\n",
        "\n",
        "  if r.status_code != 200:\n",
        "    print('Status Code:', r.status_code)\n",
        "    return None\n",
        "\n",
        "  regex = re.compile(r'(\\d{1,3}\\.\\d{1,3}\\.\\d{1,3}\\.\\d{1,3})')\n",
        "  my_ip = regex.findall(r.text)\n",
        "  return my_ip[0] if my_ip else None"
      ],
      "execution_count": 0,
      "outputs": []
    },
    {
      "cell_type": "code",
      "metadata": {
        "id": "tkOxU4lbq0FN",
        "colab_type": "code",
        "outputId": "56bcd8f9-490e-43ab-e562-3eda797bf712",
        "colab": {
          "base_uri": "https://localhost:8080/",
          "height": 34
        }
      },
      "source": [
        "ip = get_my_ip()\n",
        "print(ip)"
      ],
      "execution_count": 0,
      "outputs": [
        {
          "output_type": "stream",
          "text": [
            "34.90.39.150\n"
          ],
          "name": "stdout"
        }
      ]
    },
    {
      "cell_type": "code",
      "metadata": {
        "id": "vndRqLhtskR-",
        "colab_type": "code",
        "outputId": "366a21aa-3b71-41c0-e270-d2a78e9f2fd2",
        "colab": {
          "base_uri": "https://localhost:8080/",
          "height": 34
        }
      },
      "source": [
        "proxy_dict = {'http': 'http://41.60.229.170:54169',\n",
        "              'https' : 'https://41.60.229.170:54169'}\n",
        "ip_with_proxy = get_my_ip(proxies=proxy_dict)\n",
        "print(ip_with_proxy)\n"
      ],
      "execution_count": 0,
      "outputs": [
        {
          "output_type": "stream",
          "text": [
            "41.60.232.207\n"
          ],
          "name": "stdout"
        }
      ]
    },
    {
      "cell_type": "code",
      "metadata": {
        "id": "NCKtILZ6uPvI",
        "colab_type": "code",
        "outputId": "f893a08d-604e-4cda-e454-740208f44f8e",
        "colab": {
          "base_uri": "https://localhost:8080/",
          "height": 34
        }
      },
      "source": [
        "socks_proxy_dict = {'http': 'socks4://46.28.110.110:1080',\n",
        "                    'https': 'socks4://46.28.110.110:1080'}\n",
        "ip_with_socks = get_my_ip(proxies=socks_proxy_dict)\n",
        "print(ip_with_socks)"
      ],
      "execution_count": 0,
      "outputs": [
        {
          "output_type": "stream",
          "text": [
            "46.28.110.110\n"
          ],
          "name": "stdout"
        }
      ]
    }
  ]
}